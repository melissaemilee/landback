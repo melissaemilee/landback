{
 "cells": [
  {
   "cell_type": "code",
   "execution_count": 1,
   "id": "95050744-d7d9-459b-943b-e612334e5960",
   "metadata": {},
   "outputs": [
    {
     "name": "stderr",
     "output_type": "stream",
     "text": [
      "/opt/conda/lib/python3.9/site-packages/geopandas/_compat.py:106: UserWarning: The Shapely GEOS version (3.9.1-CAPI-1.14.2) is incompatible with the GEOS version PyGEOS was compiled with (3.10.1-CAPI-1.16.0). Conversions between both will be slow.\n",
      "  warnings.warn(\n"
     ]
    }
   ],
   "source": [
    "# to get started, we will import these libraries\n",
    "import urllib.request, json \n",
    "import pandas as pd\n",
    "import geopandas as gpd\n",
    "import contextily as ctx\n",
    "import matplotlib.pyplot as plt\n",
    "from sodapy import Socrata"
   ]
  },
  {
   "cell_type": "code",
   "execution_count": 2,
   "id": "7ef20d63-0840-412f-a5f4-ef3724404916",
   "metadata": {},
   "outputs": [
    {
     "name": "stderr",
     "output_type": "stream",
     "text": [
      "WARNING:root:Requests made without an app_token will be subject to strict throttling limits.\n"
     ]
    },
    {
     "data": {
      "text/html": [
       "<div>\n",
       "<style scoped>\n",
       "    .dataframe tbody tr th:only-of-type {\n",
       "        vertical-align: middle;\n",
       "    }\n",
       "\n",
       "    .dataframe tbody tr th {\n",
       "        vertical-align: top;\n",
       "    }\n",
       "\n",
       "    .dataframe thead th {\n",
       "        text-align: right;\n",
       "    }\n",
       "</style>\n",
       "<table border=\"1\" class=\"dataframe\">\n",
       "  <thead>\n",
       "    <tr style=\"text-align: right;\">\n",
       "      <th></th>\n",
       "      <th>usecodedescchar1</th>\n",
       "      <th>roll_homeownersexemp</th>\n",
       "      <th>situsunit</th>\n",
       "      <th>recordingdate</th>\n",
       "      <th>effectiveyearbuilt</th>\n",
       "      <th>istaxableparcel</th>\n",
       "      <th>roll_totlandimp</th>\n",
       "      <th>roll_perspropexemp</th>\n",
       "      <th>parcelboundarydescription</th>\n",
       "      <th>roll_landbaseyear</th>\n",
       "      <th>...</th>\n",
       "      <th>location_1</th>\n",
       "      <th>bathrooms</th>\n",
       "      <th>sqftmain</th>\n",
       "      <th>situsdirection</th>\n",
       "      <th>roll_realestateexemp</th>\n",
       "      <th>center_lat</th>\n",
       "      <th>situszip</th>\n",
       "      <th>yearbuilt</th>\n",
       "      <th>propertylocation</th>\n",
       "      <th>situszip5</th>\n",
       "    </tr>\n",
       "  </thead>\n",
       "  <tbody>\n",
       "    <tr>\n",
       "      <th>21098</th>\n",
       "      <td>Miscellaneous</td>\n",
       "      <td>0</td>\n",
       "      <td></td>\n",
       "      <td>19580519</td>\n",
       "      <td>0</td>\n",
       "      <td>N</td>\n",
       "      <td>0</td>\n",
       "      <td>0</td>\n",
       "      <td>ALBERT H BEACH'S COTTAGE TERRACE (EX OF STS) L...</td>\n",
       "      <td>1975</td>\n",
       "      <td>...</td>\n",
       "      <td>{'latitude': '34.09953181', 'needs_recoding': ...</td>\n",
       "      <td>0</td>\n",
       "      <td>0</td>\n",
       "      <td></td>\n",
       "      <td>0</td>\n",
       "      <td>34.09953181</td>\n",
       "      <td></td>\n",
       "      <td>0</td>\n",
       "      <td>NaN</td>\n",
       "      <td>NaN</td>\n",
       "    </tr>\n",
       "    <tr>\n",
       "      <th>16461</th>\n",
       "      <td>Commercial</td>\n",
       "      <td>0</td>\n",
       "      <td></td>\n",
       "      <td>20060202</td>\n",
       "      <td>0</td>\n",
       "      <td>N</td>\n",
       "      <td>0</td>\n",
       "      <td>0</td>\n",
       "      <td>MR 10-62 EX OF ST LOT 9 BLK A</td>\n",
       "      <td>2000</td>\n",
       "      <td>...</td>\n",
       "      <td>{'latitude': '34.06373723', 'needs_recoding': ...</td>\n",
       "      <td>0</td>\n",
       "      <td>0</td>\n",
       "      <td></td>\n",
       "      <td>0</td>\n",
       "      <td>34.06373723</td>\n",
       "      <td>90026-5733</td>\n",
       "      <td>0</td>\n",
       "      <td>1644 BEVERLY BLVD  LOS ANGELES CA  90026</td>\n",
       "      <td>90026</td>\n",
       "    </tr>\n",
       "    <tr>\n",
       "      <th>29587</th>\n",
       "      <td>Residential</td>\n",
       "      <td>0</td>\n",
       "      <td></td>\n",
       "      <td>20020124</td>\n",
       "      <td>0</td>\n",
       "      <td>Y</td>\n",
       "      <td>9827</td>\n",
       "      <td>0</td>\n",
       "      <td>TRACT NO 9083 LOT COM AT MOST N COR OF LOT 192...</td>\n",
       "      <td>2002</td>\n",
       "      <td>...</td>\n",
       "      <td>{'latitude': '33.92988862', 'needs_recoding': ...</td>\n",
       "      <td>0</td>\n",
       "      <td>0</td>\n",
       "      <td></td>\n",
       "      <td>0</td>\n",
       "      <td>33.92988862</td>\n",
       "      <td></td>\n",
       "      <td>0</td>\n",
       "      <td>NaN</td>\n",
       "      <td>NaN</td>\n",
       "    </tr>\n",
       "    <tr>\n",
       "      <th>2343</th>\n",
       "      <td>Residential</td>\n",
       "      <td>0</td>\n",
       "      <td></td>\n",
       "      <td>19920505</td>\n",
       "      <td>0</td>\n",
       "      <td>Y</td>\n",
       "      <td>257481</td>\n",
       "      <td>0</td>\n",
       "      <td>*LAND DESC IN DOC 0003223, 76-2-20 *TR=18174*P...</td>\n",
       "      <td>1992</td>\n",
       "      <td>...</td>\n",
       "      <td>{'latitude': '34.13943452', 'needs_recoding': ...</td>\n",
       "      <td>0</td>\n",
       "      <td>0</td>\n",
       "      <td></td>\n",
       "      <td>0</td>\n",
       "      <td>34.13943452</td>\n",
       "      <td>91403-4520</td>\n",
       "      <td>0</td>\n",
       "      <td>3723 LOADSTONE DR  LOS ANGELES CA  91403</td>\n",
       "      <td>91403</td>\n",
       "    </tr>\n",
       "    <tr>\n",
       "      <th>12941</th>\n",
       "      <td>Residential</td>\n",
       "      <td>0</td>\n",
       "      <td></td>\n",
       "      <td>20131231</td>\n",
       "      <td>0</td>\n",
       "      <td>Y</td>\n",
       "      <td>994480</td>\n",
       "      <td>0</td>\n",
       "      <td>TRACT NO 14885 LOT COM AT MOST N COR OF LOT 8 ...</td>\n",
       "      <td>2014</td>\n",
       "      <td>...</td>\n",
       "      <td>{'latitude': '34.11326995', 'needs_recoding': ...</td>\n",
       "      <td>0</td>\n",
       "      <td>0</td>\n",
       "      <td></td>\n",
       "      <td>0</td>\n",
       "      <td>34.11326995</td>\n",
       "      <td></td>\n",
       "      <td>0</td>\n",
       "      <td>NaN</td>\n",
       "      <td>NaN</td>\n",
       "    </tr>\n",
       "  </tbody>\n",
       "</table>\n",
       "<p>5 rows × 51 columns</p>\n",
       "</div>"
      ],
      "text/plain": [
       "      usecodedescchar1 roll_homeownersexemp situsunit recordingdate  \\\n",
       "21098    Miscellaneous                    0                19580519   \n",
       "16461       Commercial                    0                20060202   \n",
       "29587      Residential                    0                20020124   \n",
       "2343       Residential                    0                19920505   \n",
       "12941      Residential                    0                20131231   \n",
       "\n",
       "      effectiveyearbuilt istaxableparcel roll_totlandimp roll_perspropexemp  \\\n",
       "21098                  0               N               0                  0   \n",
       "16461                  0               N               0                  0   \n",
       "29587                  0               Y            9827                  0   \n",
       "2343                   0               Y          257481                  0   \n",
       "12941                  0               Y          994480                  0   \n",
       "\n",
       "                               parcelboundarydescription roll_landbaseyear  \\\n",
       "21098  ALBERT H BEACH'S COTTAGE TERRACE (EX OF STS) L...              1975   \n",
       "16461                      MR 10-62 EX OF ST LOT 9 BLK A              2000   \n",
       "29587  TRACT NO 9083 LOT COM AT MOST N COR OF LOT 192...              2002   \n",
       "2343   *LAND DESC IN DOC 0003223, 76-2-20 *TR=18174*P...              1992   \n",
       "12941  TRACT NO 14885 LOT COM AT MOST N COR OF LOT 8 ...              2014   \n",
       "\n",
       "       ...                                         location_1 bathrooms  \\\n",
       "21098  ...  {'latitude': '34.09953181', 'needs_recoding': ...         0   \n",
       "16461  ...  {'latitude': '34.06373723', 'needs_recoding': ...         0   \n",
       "29587  ...  {'latitude': '33.92988862', 'needs_recoding': ...         0   \n",
       "2343   ...  {'latitude': '34.13943452', 'needs_recoding': ...         0   \n",
       "12941  ...  {'latitude': '34.11326995', 'needs_recoding': ...         0   \n",
       "\n",
       "      sqftmain situsdirection roll_realestateexemp   center_lat    situszip  \\\n",
       "21098        0                                   0  34.09953181               \n",
       "16461        0                                   0  34.06373723  90026-5733   \n",
       "29587        0                                   0  33.92988862               \n",
       "2343         0                                   0  34.13943452  91403-4520   \n",
       "12941        0                                   0  34.11326995               \n",
       "\n",
       "      yearbuilt                          propertylocation situszip5  \n",
       "21098         0                                       NaN       NaN  \n",
       "16461         0  1644 BEVERLY BLVD  LOS ANGELES CA  90026     90026  \n",
       "29587         0                                       NaN       NaN  \n",
       "2343          0  3723 LOADSTONE DR  LOS ANGELES CA  91403     91403  \n",
       "12941         0                                       NaN       NaN  \n",
       "\n",
       "[5 rows x 51 columns]"
      ]
     },
     "execution_count": 2,
     "metadata": {},
     "output_type": "execute_result"
    }
   ],
   "source": [
    "# next we will connect to the data portal to load in vacant parcel data from LA County Assessor\n",
    "client = Socrata(\"data.lacounty.gov\", None)\n",
    "\n",
    "# The website says this dataset has 176K rows, we are going to try to call in all of them using 180K in case more have been added. However, we are also going to limit our data to Los Angeles incorporated\n",
    "results = client.get(\"vcaw-zeg9\", limit=180000, where=\"taxratearea_city=='LOS ANGELES'\")\n",
    "\n",
    "# We'll need to convert to pandas DataFrame\n",
    "vacdf = pd.DataFrame.from_records(results)\n",
    "\n",
    "vacdf.sample(5)"
   ]
  },
  {
   "cell_type": "code",
   "execution_count": 121,
   "id": "d92d9174-3f0b-4d46-825e-bf56bd81d937",
   "metadata": {},
   "outputs": [
    {
     "data": {
      "text/html": [
       "<div>\n",
       "<style scoped>\n",
       "    .dataframe tbody tr th:only-of-type {\n",
       "        vertical-align: middle;\n",
       "    }\n",
       "\n",
       "    .dataframe tbody tr th {\n",
       "        vertical-align: top;\n",
       "    }\n",
       "\n",
       "    .dataframe thead th {\n",
       "        text-align: right;\n",
       "    }\n",
       "</style>\n",
       "<table border=\"1\" class=\"dataframe\">\n",
       "  <thead>\n",
       "    <tr style=\"text-align: right;\">\n",
       "      <th></th>\n",
       "      <th>objectid</th>\n",
       "      <th>city_type</th>\n",
       "      <th>lcity</th>\n",
       "      <th>label</th>\n",
       "      <th>source</th>\n",
       "      <th>shape_starea</th>\n",
       "      <th>shape_stlength</th>\n",
       "      <th>the_geom</th>\n",
       "      <th>community</th>\n",
       "    </tr>\n",
       "  </thead>\n",
       "  <tbody>\n",
       "    <tr>\n",
       "      <th>123</th>\n",
       "      <td>68</td>\n",
       "      <td>City</td>\n",
       "      <td>Los Angeles</td>\n",
       "      <td>Los Angeles - Chinatown</td>\n",
       "      <td>LA City</td>\n",
       "      <td>1.118736e+07</td>\n",
       "      <td>14754.461111</td>\n",
       "      <td>{'type': 'MultiPolygon', 'coordinates': [[[[-1...</td>\n",
       "      <td>Chinatown</td>\n",
       "    </tr>\n",
       "    <tr>\n",
       "      <th>188</th>\n",
       "      <td>145</td>\n",
       "      <td>City</td>\n",
       "      <td>Los Angeles</td>\n",
       "      <td>Los Angeles - South Carthay</td>\n",
       "      <td>LA City</td>\n",
       "      <td>1.479925e+07</td>\n",
       "      <td>18153.185490</td>\n",
       "      <td>{'type': 'MultiPolygon', 'coordinates': [[[[-1...</td>\n",
       "      <td>South Carthay</td>\n",
       "    </tr>\n",
       "    <tr>\n",
       "      <th>291</th>\n",
       "      <td>43</td>\n",
       "      <td>City</td>\n",
       "      <td>Lancaster</td>\n",
       "      <td>City of Lancaster</td>\n",
       "      <td>BOS</td>\n",
       "      <td>2.635030e+09</td>\n",
       "      <td>678436.664903</td>\n",
       "      <td>{'type': 'MultiPolygon', 'coordinates': [[[[-1...</td>\n",
       "      <td>NaN</td>\n",
       "    </tr>\n",
       "    <tr>\n",
       "      <th>222</th>\n",
       "      <td>128</td>\n",
       "      <td>City</td>\n",
       "      <td>Los Angeles</td>\n",
       "      <td>Los Angeles - Palisades Highlands</td>\n",
       "      <td>LA City</td>\n",
       "      <td>5.152264e+08</td>\n",
       "      <td>131317.838806</td>\n",
       "      <td>{'type': 'MultiPolygon', 'coordinates': [[[[-1...</td>\n",
       "      <td>Palisades Highlands</td>\n",
       "    </tr>\n",
       "    <tr>\n",
       "      <th>340</th>\n",
       "      <td>177</td>\n",
       "      <td>City</td>\n",
       "      <td>Los Angeles</td>\n",
       "      <td>Los Angeles - Westchester</td>\n",
       "      <td>LA City</td>\n",
       "      <td>3.593835e+08</td>\n",
       "      <td>114680.771063</td>\n",
       "      <td>{'type': 'MultiPolygon', 'coordinates': [[[[-1...</td>\n",
       "      <td>Westchester</td>\n",
       "    </tr>\n",
       "  </tbody>\n",
       "</table>\n",
       "</div>"
      ],
      "text/plain": [
       "     objectid city_type        lcity                              label  \\\n",
       "123        68      City  Los Angeles            Los Angeles - Chinatown   \n",
       "188       145      City  Los Angeles        Los Angeles - South Carthay   \n",
       "291        43      City    Lancaster                  City of Lancaster   \n",
       "222       128      City  Los Angeles  Los Angeles - Palisades Highlands   \n",
       "340       177      City  Los Angeles          Los Angeles - Westchester   \n",
       "\n",
       "      source  shape_starea  shape_stlength  \\\n",
       "123  LA City  1.118736e+07    14754.461111   \n",
       "188  LA City  1.479925e+07    18153.185490   \n",
       "291      BOS  2.635030e+09   678436.664903   \n",
       "222  LA City  5.152264e+08   131317.838806   \n",
       "340  LA City  3.593835e+08   114680.771063   \n",
       "\n",
       "                                              the_geom            community  \n",
       "123  {'type': 'MultiPolygon', 'coordinates': [[[[-1...            Chinatown  \n",
       "188  {'type': 'MultiPolygon', 'coordinates': [[[[-1...        South Carthay  \n",
       "291  {'type': 'MultiPolygon', 'coordinates': [[[[-1...                  NaN  \n",
       "222  {'type': 'MultiPolygon', 'coordinates': [[[[-1...  Palisades Highlands  \n",
       "340  {'type': 'MultiPolygon', 'coordinates': [[[[-1...          Westchester  "
      ]
     },
     "execution_count": 121,
     "metadata": {},
     "output_type": "execute_result"
    }
   ],
   "source": [
    "# importing our community boundaries dataset by referencing API from data source\n",
    "\n",
    "comdf = pd.read_json( r'https://data.lacounty.gov/resource/frhs-h972.json' )\n",
    "\n",
    "comdf.sample(5)"
   ]
  },
  {
   "cell_type": "code",
   "execution_count": 5,
   "id": "feb506bc-6568-43fa-ae2e-c5e2a8c8ccfa",
   "metadata": {},
   "outputs": [
    {
     "name": "stdout",
     "output_type": "stream",
     "text": [
      "<class 'pandas.core.frame.DataFrame'>\n",
      "RangeIndex: 33091 entries, 0 to 33090\n",
      "Data columns (total 51 columns):\n",
      " #   Column                     Non-Null Count  Dtype \n",
      "---  ------                     --------------  ----- \n",
      " 0   usecodedescchar1           33080 non-null  object\n",
      " 1   roll_homeownersexemp       33091 non-null  object\n",
      " 2   situsunit                  33091 non-null  object\n",
      " 3   recordingdate              33091 non-null  object\n",
      " 4   effectiveyearbuilt         33091 non-null  object\n",
      " 5   istaxableparcel            33091 non-null  object\n",
      " 6   roll_totlandimp            33091 non-null  object\n",
      " 7   roll_perspropexemp         33091 non-null  object\n",
      " 8   parcelboundarydescription  33091 non-null  object\n",
      " 9   roll_landbaseyear          33091 non-null  object\n",
      " 10  situscity                  33091 non-null  object\n",
      " 11  roll_impbaseyear           33091 non-null  object\n",
      " 12  usetype                    33080 non-null  object\n",
      " 13  cluster                    33091 non-null  object\n",
      " 14  adminregion                33091 non-null  object\n",
      " 15  usecodedescchar3           33080 non-null  object\n",
      " 16  roll_fixtureexemp          33091 non-null  object\n",
      " 17  nettaxablevalue            33091 non-null  object\n",
      " 18  taxratearea                33091 non-null  object\n",
      " 19  rowid                      33091 non-null  object\n",
      " 20  roll_landvalue             33091 non-null  object\n",
      " 21  units                      33091 non-null  object\n",
      " 22  taxratearea_city           33091 non-null  object\n",
      " 23  situsfraction              33091 non-null  object\n",
      " 24  roll_impvalue              33091 non-null  object\n",
      " 25  usecode                    33091 non-null  object\n",
      " 26  situsstreet                33091 non-null  object\n",
      " 27  parcelclassification       33091 non-null  object\n",
      " 28  assessorid                 33091 non-null  object\n",
      " 29  roll_perspropvalue         33091 non-null  object\n",
      " 30  bedrooms                   33091 non-null  object\n",
      " 31  usecodedescchar2           33080 non-null  object\n",
      " 32  roll_totalvalue            33091 non-null  object\n",
      " 33  rollyear                   33091 non-null  object\n",
      " 34  ain                        33091 non-null  object\n",
      " 35  situshouseno               33091 non-null  object\n",
      " 36  roll_fixturevalue          33091 non-null  object\n",
      " 37  usecodedescchar4           33080 non-null  object\n",
      " 38  center_lon                 33066 non-null  object\n",
      " 39  roll_totalexemption        33091 non-null  object\n",
      " 40  totbuildingdatalines       33091 non-null  object\n",
      " 41  location_1                 33066 non-null  object\n",
      " 42  bathrooms                  33091 non-null  object\n",
      " 43  sqftmain                   33091 non-null  object\n",
      " 44  situsdirection             33091 non-null  object\n",
      " 45  roll_realestateexemp       33091 non-null  object\n",
      " 46  center_lat                 33066 non-null  object\n",
      " 47  situszip                   33091 non-null  object\n",
      " 48  yearbuilt                  33091 non-null  object\n",
      " 49  propertylocation           5973 non-null   object\n",
      " 50  situszip5                  5972 non-null   object\n",
      "dtypes: object(51)\n",
      "memory usage: 12.9+ MB\n"
     ]
    }
   ],
   "source": [
    "vacdf.info()"
   ]
  },
  {
   "cell_type": "code",
   "execution_count": 122,
   "id": "d789dd1d-207c-4e90-b51d-62cbd1dced5f",
   "metadata": {},
   "outputs": [
    {
     "ename": "AttributeError",
     "evalue": "module 'pandas' has no attribute 'join'",
     "output_type": "error",
     "traceback": [
      "\u001b[0;31m---------------------------------------------------------------------------\u001b[0m",
      "\u001b[0;31mAttributeError\u001b[0m                            Traceback (most recent call last)",
      "\u001b[0;32m/tmp/ipykernel_1319/2089004338.py\u001b[0m in \u001b[0;36m<module>\u001b[0;34m\u001b[0m\n\u001b[1;32m      1\u001b[0m \u001b[0;31m# conduct a spatial join (assign each vacant lot to the neighborhood it is in)\u001b[0m\u001b[0;34m\u001b[0m\u001b[0;34m\u001b[0m\u001b[0;34m\u001b[0m\u001b[0m\n\u001b[0;32m----> 2\u001b[0;31m \u001b[0mvac_by_com\u001b[0m \u001b[0;34m=\u001b[0m \u001b[0mpd\u001b[0m\u001b[0;34m.\u001b[0m\u001b[0mjoin\u001b[0m\u001b[0;34m(\u001b[0m\u001b[0mcomgdf\u001b[0m\u001b[0;34m,\u001b[0m \u001b[0mvacgdf\u001b[0m\u001b[0;34m)\u001b[0m\u001b[0;34m\u001b[0m\u001b[0;34m\u001b[0m\u001b[0m\n\u001b[0m\u001b[1;32m      3\u001b[0m \u001b[0;34m\u001b[0m\u001b[0m\n\u001b[1;32m      4\u001b[0m \u001b[0mvac_by_com\u001b[0m\u001b[0;34m\u001b[0m\u001b[0;34m\u001b[0m\u001b[0m\n",
      "\u001b[0;32m/opt/conda/lib/python3.9/site-packages/pandas/__init__.py\u001b[0m in \u001b[0;36m__getattr__\u001b[0;34m(name)\u001b[0m\n\u001b[1;32m    242\u001b[0m         \u001b[0;32mreturn\u001b[0m \u001b[0m_SparseArray\u001b[0m\u001b[0;34m\u001b[0m\u001b[0;34m\u001b[0m\u001b[0m\n\u001b[1;32m    243\u001b[0m \u001b[0;34m\u001b[0m\u001b[0m\n\u001b[0;32m--> 244\u001b[0;31m     \u001b[0;32mraise\u001b[0m \u001b[0mAttributeError\u001b[0m\u001b[0;34m(\u001b[0m\u001b[0;34mf\"module 'pandas' has no attribute '{name}'\"\u001b[0m\u001b[0;34m)\u001b[0m\u001b[0;34m\u001b[0m\u001b[0;34m\u001b[0m\u001b[0m\n\u001b[0m\u001b[1;32m    245\u001b[0m \u001b[0;34m\u001b[0m\u001b[0m\n\u001b[1;32m    246\u001b[0m \u001b[0;34m\u001b[0m\u001b[0m\n",
      "\u001b[0;31mAttributeError\u001b[0m: module 'pandas' has no attribute 'join'"
     ]
    }
   ],
   "source": [
    "# conduct a spatial join (assign each vacant lot to the neighborhood it is in)\n",
    "vac_by_com = pd.join(comgdf, vacgdf) \n",
    "\n",
    "vac_by_com"
   ]
  },
  {
   "cell_type": "code",
   "execution_count": 7,
   "id": "695f322b-a2b9-4f1f-9beb-6ddd2a72b61b",
   "metadata": {},
   "outputs": [],
   "source": [
    "vacdf = vacdf.fillna(\"N/A\")"
   ]
  },
  {
   "cell_type": "code",
   "execution_count": 8,
   "id": "4b2865c1-397e-49e1-8306-61e244d76825",
   "metadata": {},
   "outputs": [
    {
     "name": "stdout",
     "output_type": "stream",
     "text": [
      "<class 'pandas.core.frame.DataFrame'>\n",
      "RangeIndex: 33091 entries, 0 to 33090\n",
      "Data columns (total 51 columns):\n",
      " #   Column                     Non-Null Count  Dtype \n",
      "---  ------                     --------------  ----- \n",
      " 0   usecodedescchar1           33091 non-null  object\n",
      " 1   roll_homeownersexemp       33091 non-null  object\n",
      " 2   situsunit                  33091 non-null  object\n",
      " 3   recordingdate              33091 non-null  object\n",
      " 4   effectiveyearbuilt         33091 non-null  object\n",
      " 5   istaxableparcel            33091 non-null  object\n",
      " 6   roll_totlandimp            33091 non-null  object\n",
      " 7   roll_perspropexemp         33091 non-null  object\n",
      " 8   parcelboundarydescription  33091 non-null  object\n",
      " 9   roll_landbaseyear          33091 non-null  object\n",
      " 10  situscity                  33091 non-null  object\n",
      " 11  roll_impbaseyear           33091 non-null  object\n",
      " 12  usetype                    33091 non-null  object\n",
      " 13  cluster                    33091 non-null  object\n",
      " 14  adminregion                33091 non-null  object\n",
      " 15  usecodedescchar3           33091 non-null  object\n",
      " 16  roll_fixtureexemp          33091 non-null  object\n",
      " 17  nettaxablevalue            33091 non-null  object\n",
      " 18  taxratearea                33091 non-null  object\n",
      " 19  rowid                      33091 non-null  object\n",
      " 20  roll_landvalue             33091 non-null  object\n",
      " 21  units                      33091 non-null  object\n",
      " 22  taxratearea_city           33091 non-null  object\n",
      " 23  situsfraction              33091 non-null  object\n",
      " 24  roll_impvalue              33091 non-null  object\n",
      " 25  usecode                    33091 non-null  object\n",
      " 26  situsstreet                33091 non-null  object\n",
      " 27  parcelclassification       33091 non-null  object\n",
      " 28  assessorid                 33091 non-null  object\n",
      " 29  roll_perspropvalue         33091 non-null  object\n",
      " 30  bedrooms                   33091 non-null  object\n",
      " 31  usecodedescchar2           33091 non-null  object\n",
      " 32  roll_totalvalue            33091 non-null  object\n",
      " 33  rollyear                   33091 non-null  object\n",
      " 34  ain                        33091 non-null  object\n",
      " 35  situshouseno               33091 non-null  object\n",
      " 36  roll_fixturevalue          33091 non-null  object\n",
      " 37  usecodedescchar4           33091 non-null  object\n",
      " 38  center_lon                 33091 non-null  object\n",
      " 39  roll_totalexemption        33091 non-null  object\n",
      " 40  totbuildingdatalines       33091 non-null  object\n",
      " 41  location_1                 33091 non-null  object\n",
      " 42  bathrooms                  33091 non-null  object\n",
      " 43  sqftmain                   33091 non-null  object\n",
      " 44  situsdirection             33091 non-null  object\n",
      " 45  roll_realestateexemp       33091 non-null  object\n",
      " 46  center_lat                 33091 non-null  object\n",
      " 47  situszip                   33091 non-null  object\n",
      " 48  yearbuilt                  33091 non-null  object\n",
      " 49  propertylocation           33091 non-null  object\n",
      " 50  situszip5                  33091 non-null  object\n",
      "dtypes: object(51)\n",
      "memory usage: 12.9+ MB\n"
     ]
    }
   ],
   "source": [
    "vacdf.info()"
   ]
  },
  {
   "cell_type": "code",
   "execution_count": 25,
   "id": "42465f44-9d48-4547-b86c-e0279e72b3d5",
   "metadata": {},
   "outputs": [
    {
     "data": {
      "text/plain": [
       "usecodedescchar1\n",
       "Commercial        2704\n",
       "Dry Farm           118\n",
       "Industrial        2843\n",
       "Institutional       66\n",
       "Miscellaneous      926\n",
       "N/A                 11\n",
       "Recreational        34\n",
       "Residential      26389\n",
       "Name: usecodedescchar1, dtype: int64"
      ]
     },
     "execution_count": 25,
     "metadata": {},
     "output_type": "execute_result"
    }
   ],
   "source": [
    "vacdf.groupby(['usecodedescchar1'])['usecodedescchar1'].count()"
   ]
  },
  {
   "cell_type": "code",
   "execution_count": null,
   "id": "a80538d3-d616-4d8a-b049-76aa18fdc463",
   "metadata": {},
   "outputs": [],
   "source": [
    "# importing packages\n",
    "import pandas as pd\n",
    "import numpy as np\n",
    "import matplotlib.pyplot as plt\n",
    "\n",
    "# plot a Stacked Bar Chart using matplotlib\n",
    "vacdf.plot(\n",
    "x = 'Name',\n",
    "kind = 'barh',\n",
    "stacked = True,\n",
    "title = 'Percentage Stacked Bar Graph',\n",
    "mark_right = True)\n",
    "\n",
    "df_total = vacdf[\"Studied\"] + vacdf[\"Slept\"] + vacdf[\"Other\"]\n",
    "df_rel = vacdf[vacdf.columns[1:]].div(vacdf_total, 0) * 100\n",
    "\n",
    "for n in df_rel:\n",
    "\tfor i, (cs, ab, pc) in enumerate(zip(df.iloc[:, 1:].cumsum(1)[n],\n",
    "\t\t\t\t\t\t\t\t\t\tdf[n], df_rel[n])):\n",
    "\t\tplt.text(cs - ab / 2, i, str(np.round(pc, 1)) + '%',\n",
    "\t\t\t\tva = 'center', ha = 'center', rotation = 20, fontsize = 8)\n"
   ]
  },
  {
   "cell_type": "code",
   "execution_count": 73,
   "id": "25e89d8f-be91-4978-89ac-49724692ca7b",
   "metadata": {},
   "outputs": [],
   "source": [
    "vacpie = vacdf.groupby(['usecodedescchar1'])['usecodedescchar1'].count()"
   ]
  },
  {
   "cell_type": "code",
   "execution_count": 74,
   "id": "76a95430-3c30-4be2-9bb6-06eb8a128f4b",
   "metadata": {},
   "outputs": [
    {
     "data": {
      "text/plain": [
       "usecodedescchar1\n",
       "Commercial        2704\n",
       "Dry Farm           118\n",
       "Industrial        2843\n",
       "Institutional       66\n",
       "Miscellaneous      926\n",
       "N/A                 11\n",
       "Recreational        34\n",
       "Residential      26389\n",
       "Name: usecodedescchar1, dtype: int64"
      ]
     },
     "execution_count": 74,
     "metadata": {},
     "output_type": "execute_result"
    }
   ],
   "source": [
    "vacpie"
   ]
  },
  {
   "cell_type": "code",
   "execution_count": 79,
   "id": "657ae5b2-8cb4-46ff-862a-6d9bd0d15c09",
   "metadata": {},
   "outputs": [],
   "source": [
    "labels = vacpie.keys()"
   ]
  },
  {
   "cell_type": "code",
   "execution_count": 119,
   "id": "810b4c42-b873-444c-b2b9-a3dd0c03d6a3",
   "metadata": {},
   "outputs": [
    {
     "data": {
      "image/png": "[encoded data removed]",
      "text/plain": [
       "<Figure size 432x288 with 1 Axes>"
      ]
     },
     "metadata": {},
     "output_type": "display_data"
    },
    {
     "ename": "NameError",
     "evalue": "name 'group_lower_ranking_values' is not defined",
     "output_type": "error",
     "traceback": [
      "\u001b[0;31m---------------------------------------------------------------------------\u001b[0m",
      "\u001b[0;31mNameError\u001b[0m                                 Traceback (most recent call last)",
      "\u001b[0;32m/tmp/ipykernel_1319/3370366333.py\u001b[0m in \u001b[0;36m<module>\u001b[0;34m\u001b[0m\n\u001b[1;32m     16\u001b[0m \u001b[0mplt\u001b[0m\u001b[0;34m.\u001b[0m\u001b[0mshow\u001b[0m\u001b[0;34m(\u001b[0m\u001b[0;34m)\u001b[0m\u001b[0;34m\u001b[0m\u001b[0;34m\u001b[0m\u001b[0m\n\u001b[1;32m     17\u001b[0m \u001b[0;34m\u001b[0m\u001b[0m\n\u001b[0;32m---> 18\u001b[0;31m \u001b[0mvacpieplot\u001b[0m \u001b[0;34m=\u001b[0m \u001b[0mgroup_lower_ranking_values\u001b[0m\u001b[0;34m(\u001b[0m\u001b[0mlabels\u001b[0m\u001b[0;34m)\u001b[0m\u001b[0;34m\u001b[0m\u001b[0;34m\u001b[0m\u001b[0m\n\u001b[0m",
      "\u001b[0;31mNameError\u001b[0m: name 'group_lower_ranking_values' is not defined"
     ]
    }
   ],
   "source": [
    "cmap = plt.get_cmap('rainbow')\n",
    "colors = [cmap(i) for i in np.linspace(0, 1, 8)]\n",
    "\n",
    "y = np.array(vacpie)\n",
    "\n",
    "plt.pie(y, shadow=True, labels=labels, autopct='%1.2f%%', rotatelabels=180, startangle=285, pctdistance=2.2, \n",
    "        labeldistance=1.2, colors=colors)\n",
    "\n",
    "plt.title('Vacant Lots by Designated Use Type')\n",
    "\n",
    "plt.legend(labels=labels, loc='upper center', \n",
    "           bbox_to_anchor=(0.5, -0.04), ncol=2)\n",
    "\n",
    "plt.axis('equal')\n",
    "\n",
    "plt.show() \n",
    "\n",
    "vacpieplot = group_lower_ranking_values(labels)"
   ]
  },
  {
   "cell_type": "code",
   "execution_count": 114,
   "id": "c271d639-cfda-4c2f-8fe2-19e3e8a8fcc5",
   "metadata": {},
   "outputs": [],
   "source": [
    "import matplotlib.pyplot as plt\n",
    "import matplotlib.colors as colors\n",
    "import numpy as np"
   ]
  },
  {
   "cell_type": "code",
   "execution_count": 107,
   "id": "df5eadf1-1a77-47f1-8539-e6d3e84656a1",
   "metadata": {},
   "outputs": [
    {
     "data": {
      "text/plain": [
       "<function matplotlib.pyplot.magma()>"
      ]
     },
     "execution_count": 107,
     "metadata": {},
     "output_type": "execute_result"
    }
   ],
   "source": [
    "plt.magma"
   ]
  },
  {
   "cell_type": "code",
   "execution_count": 48,
   "id": "a676a5a7-3496-483c-b690-a20bc8e7d549",
   "metadata": {},
   "outputs": [
    {
     "name": "stderr",
     "output_type": "stream",
     "text": [
      "/tmp/ipykernel_1319/4257674993.py:8: VisibleDeprecationWarning: Creating an ndarray from ragged nested sequences (which is a list-or-tuple of lists-or-tuples-or ndarrays with different lengths or shapes) is deprecated. If you meant to do this, you must specify 'dtype=object' when creating the ndarray.\n",
      "  y = np.array(vacpie)\n"
     ]
    },
    {
     "ename": "ValueError",
     "evalue": "could not convert string to float: 'usecodedescchar1'",
     "output_type": "error",
     "traceback": [
      "\u001b[0;31m---------------------------------------------------------------------------\u001b[0m",
      "\u001b[0;31mValueError\u001b[0m                                Traceback (most recent call last)",
      "\u001b[0;32m/tmp/ipykernel_1319/4257674993.py\u001b[0m in \u001b[0;36m<module>\u001b[0;34m\u001b[0m\n\u001b[1;32m      8\u001b[0m \u001b[0my\u001b[0m \u001b[0;34m=\u001b[0m \u001b[0mnp\u001b[0m\u001b[0;34m.\u001b[0m\u001b[0marray\u001b[0m\u001b[0;34m(\u001b[0m\u001b[0mvacpie\u001b[0m\u001b[0;34m)\u001b[0m\u001b[0;34m\u001b[0m\u001b[0;34m\u001b[0m\u001b[0m\n\u001b[1;32m      9\u001b[0m \u001b[0;34m\u001b[0m\u001b[0m\n\u001b[0;32m---> 10\u001b[0;31m \u001b[0mplt\u001b[0m\u001b[0;34m.\u001b[0m\u001b[0mpie\u001b[0m\u001b[0;34m(\u001b[0m\u001b[0my\u001b[0m\u001b[0;34m,\u001b[0m \u001b[0mcolors\u001b[0m\u001b[0;34m=\u001b[0m\u001b[0;34m'inferno'\u001b[0m\u001b[0;34m,\u001b[0m \u001b[0mstartangle\u001b[0m\u001b[0;34m=\u001b[0m\u001b[0;36m90\u001b[0m\u001b[0;34m,\u001b[0m \u001b[0mshadow\u001b[0m\u001b[0;34m=\u001b[0m\u001b[0;32mTrue\u001b[0m\u001b[0;34m,\u001b[0m\u001b[0mexplode\u001b[0m\u001b[0;34m=\u001b[0m\u001b[0;34m(\u001b[0m\u001b[0;36m0.1\u001b[0m\u001b[0;34m,\u001b[0m \u001b[0;36m0.1\u001b[0m\u001b[0;34m,\u001b[0m \u001b[0;36m0.1\u001b[0m\u001b[0;34m,\u001b[0m \u001b[0;36m0.1\u001b[0m\u001b[0;34m)\u001b[0m\u001b[0;34m,\u001b[0m \u001b[0mautopct\u001b[0m\u001b[0;34m=\u001b[0m\u001b[0;34m'%1.2f%%'\u001b[0m\u001b[0;34m)\u001b[0m\u001b[0;34m\u001b[0m\u001b[0;34m\u001b[0m\u001b[0m\n\u001b[0m\u001b[1;32m     11\u001b[0m \u001b[0;34m\u001b[0m\u001b[0m\n\u001b[1;32m     12\u001b[0m \u001b[0mplt\u001b[0m\u001b[0;34m.\u001b[0m\u001b[0mtitle\u001b[0m\u001b[0;34m(\u001b[0m\u001b[0;34m'Vacant Lots by Designated Use Type'\u001b[0m\u001b[0;34m)\u001b[0m\u001b[0;34m\u001b[0m\u001b[0;34m\u001b[0m\u001b[0m\n",
      "\u001b[0;32m/opt/conda/lib/python3.9/site-packages/matplotlib/pyplot.py\u001b[0m in \u001b[0;36mpie\u001b[0;34m(x, explode, labels, colors, autopct, pctdistance, shadow, labeldistance, startangle, radius, counterclock, wedgeprops, textprops, center, frame, rotatelabels, normalize, data)\u001b[0m\n\u001b[1;32m   3004\u001b[0m         \u001b[0mtextprops\u001b[0m\u001b[0;34m=\u001b[0m\u001b[0;32mNone\u001b[0m\u001b[0;34m,\u001b[0m \u001b[0mcenter\u001b[0m\u001b[0;34m=\u001b[0m\u001b[0;34m(\u001b[0m\u001b[0;36m0\u001b[0m\u001b[0;34m,\u001b[0m \u001b[0;36m0\u001b[0m\u001b[0;34m)\u001b[0m\u001b[0;34m,\u001b[0m \u001b[0mframe\u001b[0m\u001b[0;34m=\u001b[0m\u001b[0;32mFalse\u001b[0m\u001b[0;34m,\u001b[0m\u001b[0;34m\u001b[0m\u001b[0;34m\u001b[0m\u001b[0m\n\u001b[1;32m   3005\u001b[0m         rotatelabels=False, *, normalize=None, data=None):\n\u001b[0;32m-> 3006\u001b[0;31m     return gca().pie(\n\u001b[0m\u001b[1;32m   3007\u001b[0m         \u001b[0mx\u001b[0m\u001b[0;34m,\u001b[0m \u001b[0mexplode\u001b[0m\u001b[0;34m=\u001b[0m\u001b[0mexplode\u001b[0m\u001b[0;34m,\u001b[0m \u001b[0mlabels\u001b[0m\u001b[0;34m=\u001b[0m\u001b[0mlabels\u001b[0m\u001b[0;34m,\u001b[0m \u001b[0mcolors\u001b[0m\u001b[0;34m=\u001b[0m\u001b[0mcolors\u001b[0m\u001b[0;34m,\u001b[0m\u001b[0;34m\u001b[0m\u001b[0;34m\u001b[0m\u001b[0m\n\u001b[1;32m   3008\u001b[0m         \u001b[0mautopct\u001b[0m\u001b[0;34m=\u001b[0m\u001b[0mautopct\u001b[0m\u001b[0;34m,\u001b[0m \u001b[0mpctdistance\u001b[0m\u001b[0;34m=\u001b[0m\u001b[0mpctdistance\u001b[0m\u001b[0;34m,\u001b[0m \u001b[0mshadow\u001b[0m\u001b[0;34m=\u001b[0m\u001b[0mshadow\u001b[0m\u001b[0;34m,\u001b[0m\u001b[0;34m\u001b[0m\u001b[0;34m\u001b[0m\u001b[0m\n",
      "\u001b[0;32m/opt/conda/lib/python3.9/site-packages/matplotlib/__init__.py\u001b[0m in \u001b[0;36minner\u001b[0;34m(ax, data, *args, **kwargs)\u001b[0m\n\u001b[1;32m   1359\u001b[0m     \u001b[0;32mdef\u001b[0m \u001b[0minner\u001b[0m\u001b[0;34m(\u001b[0m\u001b[0max\u001b[0m\u001b[0;34m,\u001b[0m \u001b[0;34m*\u001b[0m\u001b[0margs\u001b[0m\u001b[0;34m,\u001b[0m \u001b[0mdata\u001b[0m\u001b[0;34m=\u001b[0m\u001b[0;32mNone\u001b[0m\u001b[0;34m,\u001b[0m \u001b[0;34m**\u001b[0m\u001b[0mkwargs\u001b[0m\u001b[0;34m)\u001b[0m\u001b[0;34m:\u001b[0m\u001b[0;34m\u001b[0m\u001b[0;34m\u001b[0m\u001b[0m\n\u001b[1;32m   1360\u001b[0m         \u001b[0;32mif\u001b[0m \u001b[0mdata\u001b[0m \u001b[0;32mis\u001b[0m \u001b[0;32mNone\u001b[0m\u001b[0;34m:\u001b[0m\u001b[0;34m\u001b[0m\u001b[0;34m\u001b[0m\u001b[0m\n\u001b[0;32m-> 1361\u001b[0;31m             \u001b[0;32mreturn\u001b[0m \u001b[0mfunc\u001b[0m\u001b[0;34m(\u001b[0m\u001b[0max\u001b[0m\u001b[0;34m,\u001b[0m \u001b[0;34m*\u001b[0m\u001b[0mmap\u001b[0m\u001b[0;34m(\u001b[0m\u001b[0msanitize_sequence\u001b[0m\u001b[0;34m,\u001b[0m \u001b[0margs\u001b[0m\u001b[0;34m)\u001b[0m\u001b[0;34m,\u001b[0m \u001b[0;34m**\u001b[0m\u001b[0mkwargs\u001b[0m\u001b[0;34m)\u001b[0m\u001b[0;34m\u001b[0m\u001b[0;34m\u001b[0m\u001b[0m\n\u001b[0m\u001b[1;32m   1362\u001b[0m \u001b[0;34m\u001b[0m\u001b[0m\n\u001b[1;32m   1363\u001b[0m         \u001b[0mbound\u001b[0m \u001b[0;34m=\u001b[0m \u001b[0mnew_sig\u001b[0m\u001b[0;34m.\u001b[0m\u001b[0mbind\u001b[0m\u001b[0;34m(\u001b[0m\u001b[0max\u001b[0m\u001b[0;34m,\u001b[0m \u001b[0;34m*\u001b[0m\u001b[0margs\u001b[0m\u001b[0;34m,\u001b[0m \u001b[0;34m**\u001b[0m\u001b[0mkwargs\u001b[0m\u001b[0;34m)\u001b[0m\u001b[0;34m\u001b[0m\u001b[0;34m\u001b[0m\u001b[0m\n",
      "\u001b[0;32m/opt/conda/lib/python3.9/site-packages/matplotlib/axes/_axes.py\u001b[0m in \u001b[0;36mpie\u001b[0;34m(self, x, explode, labels, colors, autopct, pctdistance, shadow, labeldistance, startangle, radius, counterclock, wedgeprops, textprops, center, frame, rotatelabels, normalize)\u001b[0m\n\u001b[1;32m   3028\u001b[0m         \u001b[0;31m# The use of float32 is \"historical\", but can't be changed without\u001b[0m\u001b[0;34m\u001b[0m\u001b[0;34m\u001b[0m\u001b[0;34m\u001b[0m\u001b[0m\n\u001b[1;32m   3029\u001b[0m         \u001b[0;31m# regenerating the test baselines.\u001b[0m\u001b[0;34m\u001b[0m\u001b[0;34m\u001b[0m\u001b[0;34m\u001b[0m\u001b[0m\n\u001b[0;32m-> 3030\u001b[0;31m         \u001b[0mx\u001b[0m \u001b[0;34m=\u001b[0m \u001b[0mnp\u001b[0m\u001b[0;34m.\u001b[0m\u001b[0masarray\u001b[0m\u001b[0;34m(\u001b[0m\u001b[0mx\u001b[0m\u001b[0;34m,\u001b[0m \u001b[0mnp\u001b[0m\u001b[0;34m.\u001b[0m\u001b[0mfloat32\u001b[0m\u001b[0;34m)\u001b[0m\u001b[0;34m\u001b[0m\u001b[0;34m\u001b[0m\u001b[0m\n\u001b[0m\u001b[1;32m   3031\u001b[0m         \u001b[0;32mif\u001b[0m \u001b[0mx\u001b[0m\u001b[0;34m.\u001b[0m\u001b[0mndim\u001b[0m \u001b[0;34m>\u001b[0m \u001b[0;36m1\u001b[0m\u001b[0;34m:\u001b[0m\u001b[0;34m\u001b[0m\u001b[0;34m\u001b[0m\u001b[0m\n\u001b[1;32m   3032\u001b[0m             \u001b[0;32mraise\u001b[0m \u001b[0mValueError\u001b[0m\u001b[0;34m(\u001b[0m\u001b[0;34m\"x must be 1D\"\u001b[0m\u001b[0;34m)\u001b[0m\u001b[0;34m\u001b[0m\u001b[0;34m\u001b[0m\u001b[0m\n",
      "\u001b[0;32m/opt/conda/lib/python3.9/site-packages/numpy/core/_asarray.py\u001b[0m in \u001b[0;36masarray\u001b[0;34m(a, dtype, order, like)\u001b[0m\n\u001b[1;32m    100\u001b[0m         \u001b[0;32mreturn\u001b[0m \u001b[0m_asarray_with_like\u001b[0m\u001b[0;34m(\u001b[0m\u001b[0ma\u001b[0m\u001b[0;34m,\u001b[0m \u001b[0mdtype\u001b[0m\u001b[0;34m=\u001b[0m\u001b[0mdtype\u001b[0m\u001b[0;34m,\u001b[0m \u001b[0morder\u001b[0m\u001b[0;34m=\u001b[0m\u001b[0morder\u001b[0m\u001b[0;34m,\u001b[0m \u001b[0mlike\u001b[0m\u001b[0;34m=\u001b[0m\u001b[0mlike\u001b[0m\u001b[0;34m)\u001b[0m\u001b[0;34m\u001b[0m\u001b[0;34m\u001b[0m\u001b[0m\n\u001b[1;32m    101\u001b[0m \u001b[0;34m\u001b[0m\u001b[0m\n\u001b[0;32m--> 102\u001b[0;31m     \u001b[0;32mreturn\u001b[0m \u001b[0marray\u001b[0m\u001b[0;34m(\u001b[0m\u001b[0ma\u001b[0m\u001b[0;34m,\u001b[0m \u001b[0mdtype\u001b[0m\u001b[0;34m,\u001b[0m \u001b[0mcopy\u001b[0m\u001b[0;34m=\u001b[0m\u001b[0;32mFalse\u001b[0m\u001b[0;34m,\u001b[0m \u001b[0morder\u001b[0m\u001b[0;34m=\u001b[0m\u001b[0morder\u001b[0m\u001b[0;34m)\u001b[0m\u001b[0;34m\u001b[0m\u001b[0;34m\u001b[0m\u001b[0m\n\u001b[0m\u001b[1;32m    103\u001b[0m \u001b[0;34m\u001b[0m\u001b[0m\n\u001b[1;32m    104\u001b[0m \u001b[0;34m\u001b[0m\u001b[0m\n",
      "\u001b[0;31mValueError\u001b[0m: could not convert string to float: 'usecodedescchar1'"
     ]
    },
    {
     "data": {
      "image/png": "[encoded data removed]",
      "text/plain": [
       "<Figure size 432x288 with 1 Axes>"
      ]
     },
     "metadata": {
      "needs_background": "light"
     },
     "output_type": "display_data"
    }
   ],
   "source": [
    "def vacpiechart(column = 'usecodedescchar1'):\n",
    "    # aggregate column object counts\n",
    "    \n",
    "   vacpie = vacdf.groupby([column])[column].count()\n",
    "\n",
    "    # plot pie\n",
    "    \n",
    "y = np.array(vacpie)\n",
    "\n",
    "plt.pie(y, colors='inferno', startangle=90, shadow=True,explode=(0.1, 0.1, 0.1, 0.1), autopct='%1.2f%%')\n",
    "\n",
    "plt.title('Vacant Lots by Designated Use Type')\n",
    "\n",
    "plt.axis('equal')\n",
    "\n",
    "plt.show() "
   ]
  },
  {
   "cell_type": "code",
   "execution_count": 43,
   "id": "3556cd5c-7b0e-4a04-82d3-bf731a79e6a2",
   "metadata": {},
   "outputs": [
    {
     "ename": "NameError",
     "evalue": "name 'column' is not defined",
     "output_type": "error",
     "traceback": [
      "\u001b[0;31m---------------------------------------------------------------------------\u001b[0m",
      "\u001b[0;31mNameError\u001b[0m                                 Traceback (most recent call last)",
      "\u001b[0;32m/tmp/ipykernel_1319/3909045238.py\u001b[0m in \u001b[0;36m<module>\u001b[0;34m\u001b[0m\n\u001b[1;32m      1\u001b[0m \u001b[0;31m# for each column in the dataframe\u001b[0m\u001b[0;34m\u001b[0m\u001b[0;34m\u001b[0m\u001b[0;34m\u001b[0m\u001b[0m\n\u001b[1;32m      2\u001b[0m \u001b[0;32mfor\u001b[0m \u001b[0mvacpie\u001b[0m \u001b[0;32min\u001b[0m \u001b[0mvacdf\u001b[0m\u001b[0;34m.\u001b[0m\u001b[0miteritems\u001b[0m\u001b[0;34m(\u001b[0m\u001b[0;34m)\u001b[0m\u001b[0;34m:\u001b[0m\u001b[0;34m\u001b[0m\u001b[0;34m\u001b[0m\u001b[0m\n\u001b[0;32m----> 3\u001b[0;31m     \u001b[0mvacpiechart\u001b[0m\u001b[0;34m(\u001b[0m\u001b[0mcolumn\u001b[0m\u001b[0;34m)\u001b[0m\u001b[0;34m\u001b[0m\u001b[0;34m\u001b[0m\u001b[0m\n\u001b[0m",
      "\u001b[0;31mNameError\u001b[0m: name 'column' is not defined"
     ]
    }
   ],
   "source": [
    "# for each column in the dataframe\n",
    "for vacpie in vacdf.iteritems():\n",
    "    vacpiechart(column)"
   ]
  },
  {
   "cell_type": "code",
   "execution_count": 42,
   "id": "67bf699b-7ad9-4de0-a938-9598a850666c",
   "metadata": {},
   "outputs": [
    {
     "data": {
      "text/plain": [
       "<function print>"
      ]
     },
     "execution_count": 42,
     "metadata": {},
     "output_type": "execute_result"
    }
   ],
   "source": [
    "print\n",
    "  "
   ]
  },
  {
   "cell_type": "code",
   "execution_count": null,
   "id": "6fa953ad-7a55-4f3f-a56b-87ccddaa1996",
   "metadata": {},
   "outputs": [],
   "source": []
  }
 ],
 "metadata": {
  "kernelspec": {
   "display_name": "Python 3 (ipykernel)",
   "language": "python",
   "name": "python3"
  },
  "language_info": {
   "codemirror_mode": {
    "name": "ipython",
    "version": 3
   },
   "file_extension": ".py",
   "mimetype": "text/x-python",
   "name": "python",
   "nbconvert_exporter": "python",
   "pygments_lexer": "ipython3",
   "version": "3.9.6"
  }
 },
 "nbformat": 4,
 "nbformat_minor": 5
}
